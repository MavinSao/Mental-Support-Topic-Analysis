{
 "cells": [
  {
   "cell_type": "code",
   "execution_count": 1,
   "metadata": {},
   "outputs": [],
   "source": [
    "import pandas as pd"
   ]
  },
  {
   "cell_type": "code",
   "execution_count": 2,
   "metadata": {},
   "outputs": [
    {
     "data": {
      "text/html": [
       "<div>\n",
       "<style scoped>\n",
       "    .dataframe tbody tr th:only-of-type {\n",
       "        vertical-align: middle;\n",
       "    }\n",
       "\n",
       "    .dataframe tbody tr th {\n",
       "        vertical-align: top;\n",
       "    }\n",
       "\n",
       "    .dataframe thead th {\n",
       "        text-align: right;\n",
       "    }\n",
       "</style>\n",
       "<table border=\"1\" class=\"dataframe\">\n",
       "  <thead>\n",
       "    <tr style=\"text-align: right;\">\n",
       "      <th></th>\n",
       "      <th>title</th>\n",
       "      <th>selftext</th>\n",
       "      <th>timestamps</th>\n",
       "      <th>subreddit</th>\n",
       "      <th>link_flair_text</th>\n",
       "    </tr>\n",
       "  </thead>\n",
       "  <tbody>\n",
       "    <tr>\n",
       "      <th>0</th>\n",
       "      <td>Gravity - talk it out</td>\n",
       "      <td>Hey you, yeah you! Take a moment... to realis...</td>\n",
       "      <td>1708614000</td>\n",
       "      <td>MentalHealthSupport</td>\n",
       "      <td>Resources</td>\n",
       "    </tr>\n",
       "    <tr>\n",
       "      <th>1</th>\n",
       "      <td>Anger issues at just one person?</td>\n",
       "      <td>I’ve always been a super chill person, and I’v...</td>\n",
       "      <td>1708614000</td>\n",
       "      <td>MentalHealthSupport</td>\n",
       "      <td>Question</td>\n",
       "    </tr>\n",
       "    <tr>\n",
       "      <th>2</th>\n",
       "      <td>Help Needed</td>\n",
       "      <td>Hello, my name is Pamela. Not sure if this all...</td>\n",
       "      <td>1708614000</td>\n",
       "      <td>MentalHealthSupport</td>\n",
       "      <td>Resources</td>\n",
       "    </tr>\n",
       "    <tr>\n",
       "      <th>3</th>\n",
       "      <td>Need advice- Should/when should I tell my part...</td>\n",
       "      <td>Hello, i'm a 24 y/o woman who's been dating a ...</td>\n",
       "      <td>1708614000</td>\n",
       "      <td>MentalHealthSupport</td>\n",
       "      <td>Question</td>\n",
       "    </tr>\n",
       "    <tr>\n",
       "      <th>4</th>\n",
       "      <td>Need advice about project for a Uni course</td>\n",
       "      <td>Hi Redditors! \\n\\nI have a situation I need ad...</td>\n",
       "      <td>1708614000</td>\n",
       "      <td>MentalHealthSupport</td>\n",
       "      <td>Question</td>\n",
       "    </tr>\n",
       "  </tbody>\n",
       "</table>\n",
       "</div>"
      ],
      "text/plain": [
       "                                               title  \\\n",
       "0                              Gravity - talk it out   \n",
       "1                   Anger issues at just one person?   \n",
       "2                                        Help Needed   \n",
       "3  Need advice- Should/when should I tell my part...   \n",
       "4         Need advice about project for a Uni course   \n",
       "\n",
       "                                            selftext  timestamps  \\\n",
       "0   Hey you, yeah you! Take a moment... to realis...  1708614000   \n",
       "1  I’ve always been a super chill person, and I’v...  1708614000   \n",
       "2  Hello, my name is Pamela. Not sure if this all...  1708614000   \n",
       "3  Hello, i'm a 24 y/o woman who's been dating a ...  1708614000   \n",
       "4  Hi Redditors! \\n\\nI have a situation I need ad...  1708614000   \n",
       "\n",
       "             subreddit link_flair_text  \n",
       "0  MentalHealthSupport       Resources  \n",
       "1  MentalHealthSupport        Question  \n",
       "2  MentalHealthSupport       Resources  \n",
       "3  MentalHealthSupport        Question  \n",
       "4  MentalHealthSupport        Question  "
      ]
     },
     "execution_count": 2,
     "metadata": {},
     "output_type": "execute_result"
    }
   ],
   "source": [
    "df = pd.read_csv(\"./dataset/mental_support_20250114_1830.csv\")\n",
    "df.head()"
   ]
  },
  {
   "cell_type": "code",
   "execution_count": 3,
   "metadata": {},
   "outputs": [
    {
     "name": "stdout",
     "output_type": "stream",
     "text": [
      "Initial length: 21777\n",
      "After removing empty/null selftext: 17770\n",
      "After removing duplicates: 17663\n",
      "After removing empty/null flairs: 17642\n"
     ]
    }
   ],
   "source": [
    "# Initial length\n",
    "print(\"Initial length:\", len(df))\n",
    "\n",
    "# Remove rows where selftext is NaN or [null]\n",
    "df = df[~df['selftext'].isna() & \n",
    "        (df['selftext'] != '[null]') & \n",
    "        (df['selftext'].str.strip() != '')]\n",
    "print(\"After removing empty/null selftext:\", len(df))\n",
    "\n",
    "# Remove duplicates in selftext\n",
    "df = df.drop_duplicates(subset=['selftext'])\n",
    "print(\"After removing duplicates:\", len(df))\n",
    "\n",
    "# Remove rows where flair is NaN or [null]\n",
    "df = df[~df['link_flair_text'].isna() & \n",
    "        (df['link_flair_text'] != '[null]') & \n",
    "        (df['link_flair_text'].str.strip() != '')]\n",
    "print(\"After removing empty/null flairs:\", len(df))\n",
    "\n",
    "# Optional: Reset index after all the filtering\n",
    "df = df.reset_index(drop=True)"
   ]
  },
  {
   "cell_type": "code",
   "execution_count": 4,
   "metadata": {},
   "outputs": [
    {
     "name": "stdout",
     "output_type": "stream",
     "text": [
      "<class 'pandas.core.frame.DataFrame'>\n",
      "RangeIndex: 17642 entries, 0 to 17641\n",
      "Data columns (total 6 columns):\n",
      " #   Column           Non-Null Count  Dtype \n",
      "---  ------           --------------  ----- \n",
      " 0   title            17642 non-null  object\n",
      " 1   selftext         17642 non-null  object\n",
      " 2   timestamps       17642 non-null  object\n",
      " 3   subreddit        17642 non-null  object\n",
      " 4   link_flair_text  17642 non-null  object\n",
      " 5   text             17642 non-null  object\n",
      "dtypes: object(6)\n",
      "memory usage: 827.1+ KB\n"
     ]
    }
   ],
   "source": [
    "df['text'] = df['title'] + ' : ' + df['selftext'] \n",
    "df.info()"
   ]
  },
  {
   "cell_type": "code",
   "execution_count": 5,
   "metadata": {},
   "outputs": [
    {
     "data": {
      "text/plain": [
       "236"
      ]
     },
     "execution_count": 5,
     "metadata": {},
     "output_type": "execute_result"
    }
   ],
   "source": [
    "len(df[\"link_flair_text\"].unique())"
   ]
  },
  {
   "cell_type": "code",
   "execution_count": 6,
   "metadata": {},
   "outputs": [],
   "source": [
    "def map_flairs_to_categories(df):\n",
    "    \"\"\"\n",
    "    Map flairs to their categories and add a new column to the DataFrame.\n",
    "    \n",
    "    Args:\n",
    "        df (pd.DataFrame): DataFrame containing 'link_flair_text' column\n",
    "        \n",
    "    Returns:\n",
    "        pd.DataFrame: DataFrame with new 'flair_category' column\n",
    "    \"\"\"\n",
    "    \n",
    "    # Define categories dictionary\n",
    "    categories = {\n",
    "        \"Questions\": [\n",
    "            \"Question\", \"Question/Discussion\", \"Question/Support\", \n",
    "            \"Question/Vent\", \"Question about OCD and ERP\",\n",
    "            \"Mental health provider question\", \"Quick question\",\n",
    "            \"Serious Question\", \"Question/Help\", \"MH Question\",\n",
    "            \"Question:snoo_sad:\", \"Question / Need some advice\",\n",
    "            \"Question and vent\", \"Question/Support :doge:\",\n",
    "            \"Question/ asking for advice\", \"Question/advice\"\n",
    "        ],\n",
    "        \"Support Requests\": [\n",
    "            \"Need Support\", \"I need help\", \"Help me\",\n",
    "            \"Looking for a mental health buddy\", \"Need advice\",\n",
    "            \"Support Group\", \"help please\", \"I need advice/support\",\n",
    "            \"Needing Advice\", \"Help and need advice\", \"help\",\n",
    "            \"advice wanted\", \"advice needed\", \"Support \",\n",
    "            \"I need advice/support - No complicated language please\",\n",
    "            \"I need advice/support - No medicalising please\",\n",
    "            \"help \", \"advice\", \"advice?\", \"Asking for advice\",\n",
    "            \"Depression\", \"Anxiety\", \"ADD, Anxiety\", \"OCD\",\n",
    "            \"PTSD\", \"Bipolar\", \"Body Dysmorphia\", \"Mental Health\",\n",
    "            \"depression\", \"Mental illness\", \"anxiety\", \"borderline\",\n",
    "            \"depression/anxiety\", \"mental illness\", \"bipolar\",\n",
    "            \"Anxiety/Brain Fog\", \"Worsening Depression\", \"Depression\",\n",
    "            \"ocd bpd schizoaffective violent intrusive thoughts\",\n",
    "            \"Mental Awareness\", \"Diagnosis\", \"Self diagnosed\",\n",
    "            \"mental health\", \"depressed\", \"Mental Health\"\n",
    "        ],\n",
    "        # \"Mental Health Conditions\": [\n",
    "        #     \"Depression\", \"Anxiety\", \"ADD, Anxiety\", \"OCD\",\n",
    "        #     \"PTSD\", \"Bipolar\", \"Body Dysmorphia\", \"Mental Health\",\n",
    "        #     \"depression\", \"Mental illness\", \"anxiety\", \"borderline\",\n",
    "        #     \"depression/anxiety\", \"mental illness\", \"bipolar\",\n",
    "        #     \"Anxiety/Brain Fog\", \"Worsening Depression\", \"Depression\",\n",
    "        #     \"ocd bpd schizoaffective violent intrusive thoughts\",\n",
    "        #     \"Mental Awareness\", \"Diagnosis\", \"Self diagnosed\",\n",
    "        #     \"mental health\", \"depressed\", \"Mental Health\"\n",
    "        # ],\n",
    "        \"Content Types\": [\n",
    "            \"Art\", \"Video\", \"Blog post\", \"Poetry\", \"Diary Entry\",\n",
    "            \"News\", \"Meme\", \"Creative\", \"Youtube Video\",\n",
    "            \"Music Suggestion\", \"Article Suggestion\", \"Blog post\",\n",
    "            \"Reddit blog/vlog post\", \"External blog/vlog post\",\n",
    "            \"Original content\", \"Original creative art/writing\",\n",
    "            \"🎶Music Suggestion🎧\", \"🍿Movie Suggestion🎥\",\n",
    "            \"📷 Feel-Good Photography 📸\", \"👨‍🎨Artwork👩‍🎨\",\n",
    "            \"Dairy Entry\", \"song\", \"Fantasy\", \"diary\"\n",
    "        ],\n",
    "        \"Emotional Expression\": [\n",
    "            \"Venting\", \"Rant\", \"Emotion\", \"Feelings Friday\",\n",
    "            \"Off My Chest\", \"Vent - No advice please\",\n",
    "            \"Emotional Roller Coaster Ride\", \"venting\",\n",
    "            \"Vent\", \"confused emotions\", \"vent\", \n",
    "            \"Vent - Supportive replies only/no advice please\",\n",
    "            \"Vent - support and advice welcome\",\n",
    "            \"Vent - Supportive replies only please (advice still welcome)\",\n",
    "            \"venting i guess\", \"vent/support\", \"rant/support needed\",\n",
    "            \"Rant, I guess\", \"Rambling, sorry\", \"rant\"\n",
    "        ],\n",
    "        \"Resources\": [\n",
    "            \"Resources\", \"Research\", \"Article Suggestion\",\n",
    "            \"Resource Share\", \"Research Study\", \"Informative\",\n",
    "            \"Research/Study\", \"Research/study (mod approved)\",\n",
    "            \"Official research/study\", \"Research Study - Mod Approved\",\n",
    "            \"Resource Share\", \"💻Article Suggestion📰\",\n",
    "            \"Research/study\", \"Research\", \"science\",\n",
    "            \"Helpful aricle\", \"Theories\"\n",
    "        ],\n",
    "        \"Community\": [\n",
    "            \"Success Story\", \"Milestone\", \"Introduction\",\n",
    "            \"Community Help\", \"Discussion\", \"Announcement\",\n",
    "            \"40,000 members!\", \"Good News\", \"Uplifting\",\n",
    "            \"Milestone\", \"Community Help\", \"Success Story\",\n",
    "            \"Discussion Starter\", \"First post here\",\n",
    "            \"Milestones and Celebrations!🎉✨🏝️\",\n",
    "            \"Life Changing\", \"Good News / Happy\",\n",
    "            \"Inspiration / Encouragement\", \"New Discord\"\n",
    "        ],\n",
    "        \"Content Warnings\": [\n",
    "            \"Trigger warning ⚠️\", \"TRIGGER WARNING\",\n",
    "            \"Content Warning: Suicidal Thoughts / Self Harm\",\n",
    "            \"Content Warning: Sexual Assault\", \"Content Warning: Violence\",\n",
    "            \"TW\", \"TRIGGER\", \"Trigger warning/advice\",\n",
    "            \"May be trigerring ⚠️\", \"Trigger warning ⚠️\",\n",
    "            \"Content Warning: Addiction / Substance Abuse\",\n",
    "            \"Content Warning: Eating Disorders\", \"TRIGGER \",\n",
    "            \"Potential trigger warning\", \"NSFW\"\n",
    "        ],\n",
    "        \"Other\": [\n",
    "            \"General\", \"Long\", \"LONG\", \"Long \", \n",
    "            \"Identity\", \"Confidence\", \"Self Care\",\n",
    "            \"Personal Experience\", \"Self Image\",\n",
    "            \"Serious\", \"Opinions\", \"Other\",\n",
    "            \"Activism\", \"Poll\", \"Mod Post\",\n",
    "            \"Human Resource Issue\", \"Flair is fun!\",\n",
    "            \"Crosspost\", \"Played\", \":snoo_sad:\",\n",
    "            \"🧠\", \"United States of America\"\n",
    "        ]\n",
    "    }\n",
    "    \n",
    "    # Create a reverse mapping dictionary for exact matches\n",
    "    flair_to_category = {}\n",
    "    for category, flairs in categories.items():\n",
    "        for flair in flairs:\n",
    "            flair_to_category[flair.lower().strip()] = category\n",
    "    \n",
    "    def get_category(flair):\n",
    "        \"\"\"Helper function to get category for a single flair.\"\"\"\n",
    "        if pd.isna(flair):\n",
    "            return \"Uncategorized\"\n",
    "        \n",
    "        # Try exact match first\n",
    "        flair_lower = str(flair).lower().strip()\n",
    "        if flair_lower in flair_to_category:\n",
    "            return flair_to_category[flair_lower]\n",
    "        \n",
    "        # Try keyword matching if exact match fails\n",
    "        keywords = {\n",
    "            \"Questions\": [\"question\", \"q&a\"],\n",
    "            \"Support Requests\": [\"help\", \"support\", \"advice\", \"need\", \"depression\", \"anxiety\", \"mental health\", \"ocd\", \"bipolar\"],\n",
    "            #\"Mental Health Conditions\": [\"depression\", \"anxiety\", \"mental health\", \"ocd\", \"bipolar\"],\n",
    "            \"Content Types\": [\"video\", \"art\", \"blog\", \"poetry\", \"diary\"],\n",
    "            \"Emotional Expression\": [\"vent\", \"emotion\", \"feeling\", \"rant\"],\n",
    "            \"Resources\": [\"resource\", \"research\", \"study\", \"article\"],\n",
    "            \"Community\": [\"success\", \"milestone\", \"community\", \"announcement\"],\n",
    "            \"Content Warnings\": [\"trigger\", \"warning\", \"tw\", \"nsfw\"]\n",
    "        }\n",
    "        \n",
    "        for category, category_keywords in keywords.items():\n",
    "            if any(keyword in flair_lower for keyword in category_keywords):\n",
    "                return category\n",
    "                \n",
    "        return \"Other\"\n",
    "    \n",
    "    # Add new column with categories\n",
    "    df_copy = df.copy()\n",
    "    df_copy['flair_category'] = df_copy['link_flair_text'].apply(get_category)\n",
    "    \n",
    "    return df_copy"
   ]
  },
  {
   "cell_type": "code",
   "execution_count": 7,
   "metadata": {},
   "outputs": [
    {
     "name": "stdout",
     "output_type": "stream",
     "text": [
      "\n",
      "Flair Category Distribution:\n",
      "flair_category\n",
      "Support Requests        8123\n",
      "Emotional Expression    2726\n",
      "Questions               2505\n",
      "Other                   1719\n",
      "Resources                911\n",
      "Community                887\n",
      "Content Warnings         570\n",
      "Content Types            201\n",
      "Name: count, dtype: int64\n",
      "\n",
      "Example Mappings:\n",
      "                                      link_flair_text        flair_category\n",
      "13913                           I need advice/support      Support Requests\n",
      "6321   Content Warning: Suicidal Thoughts / Self Harm      Content Warnings\n",
      "10189                                       Resources             Resources\n",
      "8390                                       Discussion             Community\n",
      "16529                              My Life, Here, Now                 Other\n",
      "9576                            I need advice/support      Support Requests\n",
      "15576                           I need advice/support      Support Requests\n",
      "2322                                         Question             Questions\n",
      "3662                                          Venting  Emotional Expression\n",
      "8164                            I need advice/support      Support Requests\n"
     ]
    }
   ],
   "source": [
    "df = map_flairs_to_categories(df)\n",
    "\n",
    "# View distribution of categories\n",
    "print(\"\\nFlair Category Distribution:\")\n",
    "print(df['flair_category'].value_counts())\n",
    "\n",
    "# View some examples\n",
    "print(\"\\nExample Mappings:\")\n",
    "print(df[['link_flair_text', 'flair_category']].sample(10))"
   ]
  },
  {
   "cell_type": "code",
   "execution_count": 8,
   "metadata": {},
   "outputs": [
    {
     "name": "stdout",
     "output_type": "stream",
     "text": [
      "\n",
      "Flair Category Distribution:\n",
      "flair_category\n",
      "Support Requests        8123\n",
      "Emotional Expression    2726\n",
      "Questions               2505\n",
      "Other                   1719\n",
      "Resources                911\n",
      "Community                887\n",
      "Content Warnings         570\n",
      "Content Types            201\n",
      "Name: count, dtype: int64\n"
     ]
    },
    {
     "data": {
      "image/png": "[encoded data removed]",
      "text/plain": [
       "<Figure size 1000x600 with 1 Axes>"
      ]
     },
     "metadata": {},
     "output_type": "display_data"
    }
   ],
   "source": [
    "import matplotlib.pyplot as plt\n",
    "\n",
    "# View distribution of categories\n",
    "print(\"\\nFlair Category Distribution:\")\n",
    "print(df['flair_category'].value_counts())\n",
    "\n",
    "# Plotting the flair category distribution\n",
    "plt.figure(figsize=(10, 6))\n",
    "df['flair_category'].value_counts().plot(kind='bar', color='skyblue')\n",
    "plt.title('Flair Category Distribution')\n",
    "plt.xlabel('Flair Categories')\n",
    "plt.ylabel('Count')\n",
    "plt.xticks(rotation=45)\n",
    "plt.tight_layout()\n",
    "plt.show()"
   ]
  },
  {
   "cell_type": "markdown",
   "metadata": {},
   "source": [
    "## Text Processing"
   ]
  },
  {
   "cell_type": "code",
   "execution_count": 9,
   "metadata": {},
   "outputs": [],
   "source": [
    "import re\n",
    "\n",
    "def preprocess_for_bertopic(text):\n",
    "    if not isinstance(text, str):\n",
    "        return \"\"\n",
    "    \n",
    "    # Replace line breaks with spaces\n",
    "    text = re.sub(r'\\n+', ' ', text)\n",
    "    \n",
    "    # Remove URLs\n",
    "    text = re.sub(r'http\\S+|www\\S+|https\\S+', '', text, flags=re.MULTILINE)\n",
    "    \n",
    "    # Remove email addresses (more comprehensive pattern)\n",
    "    text = re.sub(r'[a-zA-Z0-9._%+-]+@[a-zA-Z0-9.-]+\\.[a-zA-Z]{2,}', '', text)\n",
    "    \n",
    "    # Remove @mentions\n",
    "    text = re.sub(r'@[\\w\\d_]+', '', text)\n",
    "    \n",
    "    # Remove phone numbers (more comprehensive)\n",
    "    text = re.sub(r'(?:\\+\\d{1,2}\\s)?\\(?\\d{3}\\)?[\\s.-]?\\d{3}[\\s.-]?\\d{4}', '', text)\n",
    "    \n",
    "    # Remove postal codes (US and general)\n",
    "    text = re.sub(r'\\b\\d{5}(?:-\\d{4})?\\b', '', text)  # US ZIP codes\n",
    "    text = re.sub(r'\\b[A-Za-z]\\d[A-Za-z][ -]?\\d[A-Za-z]\\d\\b', '', text)  # Canadian postal codes\n",
    "    \n",
    "    # Remove street addresses (basic pattern)\n",
    "    text = re.sub(r'\\d+\\s+[A-Za-z\\s]{1,} (?:street|st|avenue|ave|road|rd|highway|hwy|square|sq|trail|trl|drive|dr|court|ct|park|parkway|pkwy|circle|cir|boulevard|blvd)\\b', '', text, flags=re.IGNORECASE)\n",
    "    \n",
    "    # Remove IP addresses\n",
    "    text = re.sub(r'\\b\\d{1,3}\\.\\d{1,3}\\.\\d{1,3}\\.\\d{1,3}\\b', '', text)\n",
    "    \n",
    "    # Remove HTML tags\n",
    "    text = re.sub(r'<[^>]+>', '', text)\n",
    "    \n",
    "    # Remove any sequences of digits that might be identifying numbers\n",
    "    text = re.sub(r'\\b\\d{6,}\\b', '', text)\n",
    "    \n",
    "    # Remove excessive whitespace\n",
    "    text = re.sub(r'\\s+', ' ', text).strip()\n",
    "    \n",
    "    # Remove common social media platform mentions\n",
    "    text = re.sub(r'\\b(?:reddit|facebook|twitter|instagram|snapchat|tiktok)\\b', '', text, flags=re.IGNORECASE)\n",
    "    \n",
    "    # Remove subreddit mentions\n",
    "    text = re.sub(r'r/\\w+', '', text)\n",
    "    \n",
    "    # Remove username patterns\n",
    "    text = re.sub(r'u/\\w+', '', text)\n",
    "    \n",
    "    return text\n"
   ]
  },
  {
   "cell_type": "code",
   "execution_count": 10,
   "metadata": {},
   "outputs": [],
   "source": [
    "# Apply to your dataframe\n",
    "df['cleaned_text'] = df['text'].apply(preprocess_for_bertopic)"
   ]
  },
  {
   "cell_type": "code",
   "execution_count": 11,
   "metadata": {},
   "outputs": [
    {
     "data": {
      "text/plain": [
       "17642"
      ]
     },
     "execution_count": 11,
     "metadata": {},
     "output_type": "execute_result"
    }
   ],
   "source": [
    "len(df)"
   ]
  },
  {
   "cell_type": "code",
   "execution_count": 12,
   "metadata": {},
   "outputs": [],
   "source": [
    "# ... existing code ...\n",
    "df.to_csv(\"./dataset/mental_support_subreddit.csv\", index=False)"
   ]
  },
  {
   "cell_type": "code",
   "execution_count": null,
   "metadata": {},
   "outputs": [],
   "source": []
  }
 ],
 "metadata": {
  "kernelspec": {
   "display_name": "Python 3",
   "language": "python",
   "name": "python3"
  },
  "language_info": {
   "codemirror_mode": {
    "name": "ipython",
    "version": 3
   },
   "file_extension": ".py",
   "mimetype": "text/x-python",
   "name": "python",
   "nbconvert_exporter": "python",
   "pygments_lexer": "ipython3",
   "version": "3.11.2"
  }
 },
 "nbformat": 4,
 "nbformat_minor": 2
}
